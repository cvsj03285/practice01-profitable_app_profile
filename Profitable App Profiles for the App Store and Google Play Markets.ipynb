{
 "cells": [
  {
   "cell_type": "markdown",
   "metadata": {
    "collapsed": true
   },
   "source": [
    "# App Store和Google Paly Markets中App的探索\n",
    "\n",
    "在這項專案中，假設我們在App公司中擔任數據分析師，我們要讓產品上架在Google Play和App Store平台。\n",
    "\n",
    "公司的產品免費下載安裝，而主要的營收來源為App內的廣告，這表示我們的主要營收會受使用者人數影響－使用者越多，廣告商投放的廣告就越多，進而使營收受益。這項專案的目的是分析資料使研發部門了解哪一種類的App比較能吸引用戶。\n"
   ]
  },
  {
   "cell_type": "markdown",
   "metadata": {},
   "source": [
    "如上所述，我們的目標是幫助研發部門了解哪個類別的app比較能吸引到Google Play和App Store的用戶。為了達到這項目的，我們需要搜集與分析兩大平台的資料。\n",
    "\n",
    "在2018年九月，大約有200萬個app在App Store上架，與210萬個app在Android的Google Play平台上架。\n",
    "\n",
    "![photo](https://s3.amazonaws.com/dq-content/350/py1m8_statista.png)\n",
    "<center>來源: [Statista](https://www.statista.com/statistics/276623/number-of-apps-available-in-leading-app-stores/)</center>\n",
    "\n",
    "搜集超過400萬比資料需要大量時間與金錢，為了避免花費過大的資源，所以我們從大筆資料中取樣，因此我們使用以下兩筆資料集來完成我們的目標。\n",
    "\n",
    "- 包含大約1萬筆Google Play的Android apps資料集，在2018年八月蒐集，[資料來源](https://dq-content.s3.amazonaws.com/350/googleplaystore.csv)\n",
    "\n",
    "- 包含大約7千筆App Store的iOS apps資料集，在2017年七月蒐集，[資料來源](https://dq-content.s3.amazonaws.com/350/AppleStore.csv)"
   ]
  },
  {
   "cell_type": "markdown",
   "metadata": {},
   "source": [
    "### 讀入與探索資料"
   ]
  },
  {
   "cell_type": "code",
   "execution_count": 1,
   "metadata": {},
   "outputs": [],
   "source": [
    "# 讀入這兩筆資料\n",
    "\n",
    "from csv import reader\n",
    "\n",
    "# 檢查App Store資料集\n",
    "# 去除表頭\n",
    "\n",
    "opened_file = open('AppleStore.csv')\n",
    "read_file = reader(opened_file)\n",
    "ios = list(read_file)\n",
    "ios_header = ios[0]\n",
    "ios = ios[1:]\n",
    "\n",
    "\n",
    "# 檢查Google play資料集\n",
    "# 去除表頭\n",
    "opened_file = open('googleplaystore.csv')\n",
    "read_file = reader(opened_file)\n",
    "android = list(read_file)\n",
    "android_header = android[0]\n",
    "android= android[1:]"
   ]
  },
  {
   "cell_type": "code",
   "execution_count": 2,
   "metadata": {},
   "outputs": [],
   "source": [
    "# 建立一個計算資料數量的函式\n",
    "def explore_data(dataset, start, end, rows_and_columns=False):\n",
    "    dataset_slice = dataset[start:end]\n",
    "    for row in dataset_slice:\n",
    "        print(row)\n",
    "        print('\\n') \n",
    "    \n",
    "    if rows_and_columns:\n",
    "        print('row數: ', len(dataset))\n",
    "        print('column數: ', len(dataset[0]))"
   ]
  },
  {
   "cell_type": "code",
   "execution_count": 3,
   "metadata": {},
   "outputs": [
    {
     "name": "stdout",
     "output_type": "stream",
     "text": [
      "['App', 'Category', 'Rating', 'Reviews', 'Size', 'Installs', 'Type', 'Price', 'Content Rating', 'Genres', 'Last Updated', 'Current Ver', 'Android Ver']\n",
      "\n",
      "\n",
      "['Photo Editor & Candy Camera & Grid & ScrapBook', 'ART_AND_DESIGN', '4.1', '159', '19M', '10,000+', 'Free', '0', 'Everyone', 'Art & Design', 'January 7, 2018', '1.0.0', '4.0.3 and up']\n",
      "\n",
      "\n",
      "['Coloring book moana', 'ART_AND_DESIGN', '3.9', '967', '14M', '500,000+', 'Free', '0', 'Everyone', 'Art & Design;Pretend Play', 'January 15, 2018', '2.0.0', '4.0.3 and up']\n",
      "\n",
      "\n",
      "['U Launcher Lite – FREE Live Cool Themes, Hide Apps', 'ART_AND_DESIGN', '4.7', '87510', '8.7M', '5,000,000+', 'Free', '0', 'Everyone', 'Art & Design', 'August 1, 2018', '1.2.4', '4.0.3 and up']\n",
      "\n",
      "\n",
      "['Sketch - Draw & Paint', 'ART_AND_DESIGN', '4.5', '215644', '25M', '50,000,000+', 'Free', '0', 'Teen', 'Art & Design', 'June 8, 2018', 'Varies with device', '4.2 and up']\n",
      "\n",
      "\n",
      "['Pixel Draw - Number Art Coloring Book', 'ART_AND_DESIGN', '4.3', '967', '2.8M', '100,000+', 'Free', '0', 'Everyone', 'Art & Design;Creativity', 'June 20, 2018', '1.1', '4.4 and up']\n",
      "\n",
      "\n",
      "row數:  10841\n",
      "column數:  13\n"
     ]
    }
   ],
   "source": [
    "print(android_header)\n",
    "print('\\n')\n",
    "explore_data(android, 0, 5, True)"
   ]
  },
  {
   "cell_type": "code",
   "execution_count": 4,
   "metadata": {},
   "outputs": [
    {
     "name": "stdout",
     "output_type": "stream",
     "text": [
      "['id', 'track_name', 'size_bytes', 'currency', 'price', 'rating_count_tot', 'rating_count_ver', 'user_rating', 'user_rating_ver', 'ver', 'cont_rating', 'prime_genre', 'sup_devices.num', 'ipadSc_urls.num', 'lang.num', 'vpp_lic']\n",
      "\n",
      "\n",
      "['284882215', 'Facebook', '389879808', 'USD', '0.0', '2974676', '212', '3.5', '3.5', '95.0', '4+', 'Social Networking', '37', '1', '29', '1']\n",
      "\n",
      "\n",
      "['389801252', 'Instagram', '113954816', 'USD', '0.0', '2161558', '1289', '4.5', '4.0', '10.23', '12+', 'Photo & Video', '37', '0', '29', '1']\n",
      "\n",
      "\n",
      "['529479190', 'Clash of Clans', '116476928', 'USD', '0.0', '2130805', '579', '4.5', '4.5', '9.24.12', '9+', 'Games', '38', '5', '18', '1']\n",
      "\n",
      "\n",
      "['420009108', 'Temple Run', '65921024', 'USD', '0.0', '1724546', '3842', '4.5', '4.0', '1.6.2', '9+', 'Games', '40', '5', '1', '1']\n",
      "\n",
      "\n",
      "['284035177', 'Pandora - Music & Radio', '130242560', 'USD', '0.0', '1126879', '3594', '4.0', '4.5', '8.4.1', '12+', 'Music', '37', '4', '1', '1']\n",
      "\n",
      "\n",
      "row數:  7197\n",
      "column數:  16\n"
     ]
    }
   ],
   "source": [
    "print(ios_header)\n",
    "print('\\n') #增加可讀性\n",
    "explore_data(ios, 0, 5, True)"
   ]
  },
  {
   "cell_type": "code",
   "execution_count": 5,
   "metadata": {},
   "outputs": [
    {
     "name": "stdout",
     "output_type": "stream",
     "text": [
      "['App', 'Category', 'Rating', 'Reviews', 'Size', 'Installs', 'Type', 'Price', 'Content Rating', 'Genres', 'Last Updated', 'Current Ver', 'Android Ver']\n",
      "['Life Made WI-Fi Touchscreen Photo Frame', '1.9', '19', '3.0M', '1,000+', 'Free', '0', 'Everyone', '', 'February 11, 2018', '1.0.19', '4.0 and up']\n"
     ]
    }
   ],
   "source": [
    "print(android_header)\n",
    "print(android[10472])"
   ]
  },
  {
   "cell_type": "code",
   "execution_count": 6,
   "metadata": {},
   "outputs": [
    {
     "name": "stdout",
     "output_type": "stream",
     "text": [
      "10841\n",
      "10840\n"
     ]
    }
   ],
   "source": [
    "print(len(android))\n",
    "del android[10472]\n",
    "print(len(android))"
   ]
  },
  {
   "cell_type": "markdown",
   "metadata": {},
   "source": [
    "### 刪除錯誤資料\n",
    "\n",
    "開始分析前，我們必須確保資料內容正確，否則會影響分析結果。這表示我們必須：\n",
    "- 偵測錯誤資料，修正或移除它\n",
    "- 偵測重複資料，移除重複的部分\n",
    "\n",
    "回想我們的公司是在做免費的App並上架供用戶下載，我們的客群是把英文的母語使用人士，因此我們必須移除：\n",
    "- 移除非英文的App，例如<i>爱奇艺PPS -《欢乐颂2》电视剧热播</i>\n",
    "- 移除付費App\n",
    "\n",
    "這個步驟我們稱為<b>資料清理</b>，資料清理必須在分析之前完成，包括移除或校正錯誤資料、移除重複資料與調整資料以符合目的。\n",
    "\n",
    "資料科學家通常會花80%的時間清理資料，再花20%的時間分析清理過的資料，在這項專案中，你會發現事實確實如此。\n"
   ]
  },
  {
   "cell_type": "code",
   "execution_count": 7,
   "metadata": {},
   "outputs": [
    {
     "name": "stdout",
     "output_type": "stream",
     "text": [
      "['Instagram', 'SOCIAL', '4.5', '66577313', 'Varies with device', '1,000,000,000+', 'Free', '0', 'Teen', 'Social', 'July 31, 2018', 'Varies with device', 'Varies with device']\n",
      "['Instagram', 'SOCIAL', '4.5', '66577446', 'Varies with device', '1,000,000,000+', 'Free', '0', 'Teen', 'Social', 'July 31, 2018', 'Varies with device', 'Varies with device']\n",
      "['Instagram', 'SOCIAL', '4.5', '66577313', 'Varies with device', '1,000,000,000+', 'Free', '0', 'Teen', 'Social', 'July 31, 2018', 'Varies with device', 'Varies with device']\n",
      "['Instagram', 'SOCIAL', '4.5', '66509917', 'Varies with device', '1,000,000,000+', 'Free', '0', 'Teen', 'Social', 'July 31, 2018', 'Varies with device', 'Varies with device']\n"
     ]
    }
   ],
   "source": [
    "# 課程提示我們Instagram這個App重複地出現在資料中\n",
    "# 我們先確認是否真的有重複\n",
    "\n",
    "for app in android:\n",
    "    name = app[0]\n",
    "    if name == 'Instagram':\n",
    "        print(app)"
   ]
  },
  {
   "cell_type": "code",
   "execution_count": 8,
   "metadata": {
    "scrolled": true
   },
   "outputs": [
    {
     "name": "stdout",
     "output_type": "stream",
     "text": [
      "重複資料數: 1181\n",
      "\n",
      "\n",
      "['Quick PDF Scanner + OCR FREE', 'Box', 'Google My Business', 'ZOOM Cloud Meetings', 'join.me - Simple Meetings', 'Box', 'Zenefits', 'Google Ads', 'Google My Business', 'Slack', 'FreshBooks Classic', 'Insightly CRM', 'QuickBooks Accounting: Invoicing & Expenses', 'HipChat - Chat Built for Teams', 'Xero Accounting Software']\n"
     ]
    }
   ],
   "source": [
    "# 將重複的App名字append到空白的list\n",
    "# 並計算重複個數\n",
    "\n",
    "duplicate_apps = []\n",
    "unique_apps = []\n",
    "\n",
    "for app in android:\n",
    "    name = app[0]\n",
    "    if name in unique_apps:\n",
    "        duplicate_apps.append(name)\n",
    "    else:\n",
    "        unique_apps.append(name)\n",
    "    \n",
    "print('重複資料數:', len(duplicate_apps))\n",
    "print('\\n')\n",
    "print(duplicate_apps[:15])"
   ]
  },
  {
   "cell_type": "code",
   "execution_count": 9,
   "metadata": {},
   "outputs": [
    {
     "name": "stdout",
     "output_type": "stream",
     "text": [
      "預期資料數 9659\n"
     ]
    }
   ],
   "source": [
    "# 以下是我們預期清理後的資料數量\n",
    "\n",
    "print('預期資料數', len(android)-1181)"
   ]
  },
  {
   "cell_type": "markdown",
   "metadata": {},
   "source": [
    "要移除重複的資料，我們必須要做的步驟是：\n",
    "\n",
    "- 建立一個dictionary，而每一個key都是獨特的app名稱，取其value是最高瀏覽次數\n",
    "- 使用此dictionary建立一個新的資料集，此時就不會有重複的app了\n"
   ]
  },
  {
   "cell_type": "code",
   "execution_count": 10,
   "metadata": {},
   "outputs": [],
   "source": [
    "# 建立空白的dictionary\n",
    "# 將瀏覽次數較高的資料留下\n",
    "reviews_max = {}\n",
    "\n",
    "for app in android:\n",
    "    name = app[0]\n",
    "    n_reviews = float(app[3])\n",
    "    \n",
    "    if name in reviews_max and reviews_max[name] < n_reviews:\n",
    "        reviews_max[name] = n_reviews\n",
    "        \n",
    "    elif name not in reviews_max:\n",
    "        reviews_max[name] = n_reviews"
   ]
  },
  {
   "cell_type": "markdown",
   "metadata": {},
   "source": [
    "確認一下現在的資料筆數與預期的9659是否相同"
   ]
  },
  {
   "cell_type": "code",
   "execution_count": 11,
   "metadata": {},
   "outputs": [
    {
     "name": "stdout",
     "output_type": "stream",
     "text": [
      "預期資料數: 9659\n",
      "實際資料數: 9659\n"
     ]
    }
   ],
   "source": [
    "print('預期資料數:', len(android) -len(duplicate_apps))\n",
    "print('實際資料數:', len(reviews_max))"
   ]
  },
  {
   "cell_type": "code",
   "execution_count": 12,
   "metadata": {},
   "outputs": [],
   "source": [
    "android_clean = []\n",
    "already_added = []\n",
    "\n",
    "for app in android:\n",
    "    name = app[0]\n",
    "    n_reviews = float(app[3])\n",
    "    \n",
    "    if (reviews_max[name] == n_reviews) and (name not in already_added):\n",
    "        android_clean.append(app)\n",
    "        already_added.append(name) "
   ]
  },
  {
   "cell_type": "markdown",
   "metadata": {},
   "source": [
    "用函數explore_data()確認清理過的資料筆數是否正確"
   ]
  },
  {
   "cell_type": "code",
   "execution_count": 13,
   "metadata": {},
   "outputs": [
    {
     "name": "stdout",
     "output_type": "stream",
     "text": [
      "['Photo Editor & Candy Camera & Grid & ScrapBook', 'ART_AND_DESIGN', '4.1', '159', '19M', '10,000+', 'Free', '0', 'Everyone', 'Art & Design', 'January 7, 2018', '1.0.0', '4.0.3 and up']\n",
      "\n",
      "\n",
      "['U Launcher Lite – FREE Live Cool Themes, Hide Apps', 'ART_AND_DESIGN', '4.7', '87510', '8.7M', '5,000,000+', 'Free', '0', 'Everyone', 'Art & Design', 'August 1, 2018', '1.2.4', '4.0.3 and up']\n",
      "\n",
      "\n",
      "['Sketch - Draw & Paint', 'ART_AND_DESIGN', '4.5', '215644', '25M', '50,000,000+', 'Free', '0', 'Teen', 'Art & Design', 'June 8, 2018', 'Varies with device', '4.2 and up']\n",
      "\n",
      "\n",
      "row數:  9659\n",
      "column數:  13\n"
     ]
    }
   ],
   "source": [
    "explore_data(android_clean, 0, 3, True)"
   ]
  },
  {
   "cell_type": "markdown",
   "metadata": {},
   "source": [
    "前面的步驟我們移除了Google Play裡面重複的資料，此時我們要移除非英文的App。\n",
    "\n",
    "此時我們將運用內建的ord()函數與ASCII(美國標準信息交換編碼)來判定app是否為英文，若為英文，ord()函數的值將介於0到127之間，若超過即為其他語系的文字。\n"
   ]
  },
  {
   "cell_type": "code",
   "execution_count": 14,
   "metadata": {},
   "outputs": [
    {
     "name": "stdout",
     "output_type": "stream",
     "text": [
      "爱奇艺PPS -《欢乐颂2》电视剧热播\n",
      "東京時層地図 for iPad\n",
      "\n",
      "\n",
      "中国語 AQリスニング\n",
      "لعبة تقدر تربح DZ\n"
     ]
    }
   ],
   "source": [
    "# 課程提示這幾筆資料為非英文app\n",
    "\n",
    "print(ios[813][1])\n",
    "print(ios[6713][1])\n",
    "print('\\n')\n",
    "print(android_clean[4412][0])\n",
    "print(android_clean[7940][0])"
   ]
  },
  {
   "cell_type": "code",
   "execution_count": 15,
   "metadata": {},
   "outputs": [],
   "source": [
    "# 建立一個函數辨別是否為英文\n",
    "# 此時只是雛型\n",
    "\n",
    "def is_english(string):\n",
    "    \n",
    "    for character in string:\n",
    "        if ord(character) > 127:\n",
    "            return False\n",
    "    return True"
   ]
  },
  {
   "cell_type": "code",
   "execution_count": 16,
   "metadata": {
    "scrolled": true
   },
   "outputs": [
    {
     "name": "stdout",
     "output_type": "stream",
     "text": [
      "True\n",
      "False\n",
      "False\n",
      "False\n",
      "8482\n",
      "128540\n"
     ]
    }
   ],
   "source": [
    "# 用以下範例練習\n",
    "\n",
    "print(is_english('Instagram'))\n",
    "print(is_english('爱奇艺PPS -《欢乐颂2》电视剧热播'))\n",
    "print(is_english('Docs To Go™ Free Office Suite'))\n",
    "print(is_english('Instachat 😜'))\n",
    "print(ord('™'))\n",
    "print(ord('😜'))"
   ]
  },
  {
   "cell_type": "markdown",
   "metadata": {},
   "source": [
    "我們會發現如果App名稱中有表情符號或是特殊文字，我們建立的函數也會判定為「非英文」，這會使數據大量流失，所以我們要在函數中新增條件，要求出現三個以上的非英文字才判定為「非英文」"
   ]
  },
  {
   "cell_type": "code",
   "execution_count": 17,
   "metadata": {},
   "outputs": [
    {
     "name": "stdout",
     "output_type": "stream",
     "text": [
      "True\n",
      "True\n"
     ]
    }
   ],
   "source": [
    "# 修正函數\n",
    "def is_english(string):\n",
    "    non_ascii = 0\n",
    "    \n",
    "    for character in string:\n",
    "        if ord(character) > 127:\n",
    "            non_ascii += 1\n",
    "    \n",
    "    if non_ascii > 3:\n",
    "        return False\n",
    "    else:\n",
    "        return True\n",
    "\n",
    "# 確認是否正確\n",
    "print(is_english('Docs To Go™ Free Office Suite'))\n",
    "print(is_english('Instachat 😜'))"
   ]
  },
  {
   "cell_type": "code",
   "execution_count": 18,
   "metadata": {},
   "outputs": [
    {
     "data": {
      "text/plain": [
       "False"
      ]
     },
     "execution_count": 18,
     "metadata": {},
     "output_type": "execute_result"
    }
   ],
   "source": [
    "is_english('爱奇艺PPS -《欢乐颂2》电视剧热播')"
   ]
  },
  {
   "cell_type": "code",
   "execution_count": 19,
   "metadata": {},
   "outputs": [
    {
     "name": "stdout",
     "output_type": "stream",
     "text": [
      "['Photo Editor & Candy Camera & Grid & ScrapBook', 'ART_AND_DESIGN', '4.1', '159', '19M', '10,000+', 'Free', '0', 'Everyone', 'Art & Design', 'January 7, 2018', '1.0.0', '4.0.3 and up']\n",
      "\n",
      "\n",
      "['U Launcher Lite – FREE Live Cool Themes, Hide Apps', 'ART_AND_DESIGN', '4.7', '87510', '8.7M', '5,000,000+', 'Free', '0', 'Everyone', 'Art & Design', 'August 1, 2018', '1.2.4', '4.0.3 and up']\n",
      "\n",
      "\n",
      "['Sketch - Draw & Paint', 'ART_AND_DESIGN', '4.5', '215644', '25M', '50,000,000+', 'Free', '0', 'Teen', 'Art & Design', 'June 8, 2018', 'Varies with device', '4.2 and up']\n",
      "\n",
      "\n",
      "row數:  9614\n",
      "column數:  13\n",
      "\n",
      "\n",
      "['284882215', 'Facebook', '389879808', 'USD', '0.0', '2974676', '212', '3.5', '3.5', '95.0', '4+', 'Social Networking', '37', '1', '29', '1']\n",
      "\n",
      "\n",
      "['389801252', 'Instagram', '113954816', 'USD', '0.0', '2161558', '1289', '4.5', '4.0', '10.23', '12+', 'Photo & Video', '37', '0', '29', '1']\n",
      "\n",
      "\n",
      "['529479190', 'Clash of Clans', '116476928', 'USD', '0.0', '2130805', '579', '4.5', '4.5', '9.24.12', '9+', 'Games', '38', '5', '18', '1']\n",
      "\n",
      "\n",
      "row數:  6183\n",
      "column數:  16\n"
     ]
    }
   ],
   "source": [
    "# 清理資料集\n",
    "# is_english結果為True才能留下\n",
    "android_english = []\n",
    "ios_english = []\n",
    "\n",
    "for app in android_clean:\n",
    "    name = app[0]\n",
    "    if is_english(name):\n",
    "        android_english.append(app)\n",
    "        \n",
    "for app in ios:\n",
    "    name = app[1]\n",
    "    if is_english(name):\n",
    "        ios_english.append(app)\n",
    "        \n",
    "explore_data(android_english, 0, 3, True)\n",
    "print('\\n')\n",
    "explore_data(ios_english, 0, 3, True)"
   ]
  },
  {
   "cell_type": "markdown",
   "metadata": {},
   "source": [
    "現在只剩9614個google apps和6183個iOS app"
   ]
  },
  {
   "cell_type": "markdown",
   "metadata": {},
   "source": [
    "資料清理到目前為止，我們做了：\n",
    "- 移除不正確的資料\n",
    "- 移除重複的資料\n",
    "- 移除非英文的資料\n",
    "\n",
    "再次回想我們公司的產品是免費下載的app，主要獲利來源為app內的廣告收入，目前為止資料庫裡還包含免費與付費的資料，因此我們要再一次進行資料清理。"
   ]
  },
  {
   "cell_type": "code",
   "execution_count": 20,
   "metadata": {
    "scrolled": true
   },
   "outputs": [
    {
     "name": "stdout",
     "output_type": "stream",
     "text": [
      "Android資料數: 8864\n",
      "iOS資料數: 3222\n"
     ]
    }
   ],
   "source": [
    "# 移除付費app的資料\n",
    "\n",
    "android_final = []\n",
    "ios_final = []\n",
    "\n",
    "for app in android_english:\n",
    "    price = app[7]\n",
    "    if price == '0':\n",
    "        android_final.append(app)\n",
    "        \n",
    "for app in ios_english:\n",
    "    price = app[4]\n",
    "    if price == '0.0':\n",
    "        ios_final.append(app)\n",
    "        \n",
    "print('Android資料數:',len(android_final))\n",
    "print('iOS資料數:',len(ios_final))"
   ]
  },
  {
   "cell_type": "markdown",
   "metadata": {},
   "source": [
    "目前為止，我們剩下8864筆Android資料與3222筆iOS資料"
   ]
  },
  {
   "cell_type": "markdown",
   "metadata": {},
   "source": [
    "為了最小化風險與人力成本，我們的策略包含三個步驟：\n",
    "1. 以最少成本在Android平台上架app\n",
    "2. 如果用戶給予好的評價再進一步研發\n",
    "3. 如果六個月後仍有獲利，我們再研發iOS版本與上架App Store\n",
    "\n",
    "因為我們最終目標是在兩大平台都要上架，我們需要找到兩大平台都有上架的app，再作進一步的分析。\n",
    "\n",
    "我們要建立兩個函數來分析各個app的種類的次數分配：\n",
    "1. 產生次數分配並顯示百分比\n",
    "2. 以遞減方式呈現百分比\n"
   ]
  },
  {
   "cell_type": "code",
   "execution_count": 21,
   "metadata": {},
   "outputs": [],
   "source": [
    "def freq_table(dataset, index):\n",
    "    \"\"\"\n",
    "    此函數為檢視資料庫內各app類別出現次數\n",
    "    dataset為android或iOS\n",
    "    index要看dataset所需檢視的欄位index為何\n",
    "    像這次要檢視的genre在ios為[-5],在android為[-4]\n",
    "    \"\"\"\n",
    "    table = {}\n",
    "    total = 0\n",
    "    \n",
    "    for row in dataset:\n",
    "        total += 1\n",
    "        value = row[index]\n",
    "        if value in table:\n",
    "            table[value] += 1\n",
    "        else:\n",
    "            table[value] = 1\n",
    "    \n",
    "    table_percentages = {}\n",
    "    for key in table:\n",
    "        percentage = (table[key] / total) * 100\n",
    "        table_percentages[key] = round(percentage,2)\n",
    "    \n",
    "    return table_percentages\n",
    "\n",
    "\n",
    "def display_table(dataset, index):\n",
    "    \"\"\"\n",
    "    運用前面寫的freq_table()函數算出個類別佔比\n",
    "    再依序排列後印出結果\n",
    "    \"\"\"\n",
    "    table = freq_table(dataset, index)\n",
    "    table_display = []\n",
    "    for key in table:\n",
    "        key_val_as_tuple = (table[key], key)\n",
    "        table_display.append(key_val_as_tuple)\n",
    "        \n",
    "    table_sorted = sorted(table_display, reverse = True)[:10] # 印出前十個即可\n",
    "    for entry in table_sorted:\n",
    "        print(entry[1], ':', entry[0])"
   ]
  },
  {
   "cell_type": "code",
   "execution_count": 22,
   "metadata": {},
   "outputs": [
    {
     "data": {
      "text/plain": [
       "['App',\n",
       " 'Category',\n",
       " 'Rating',\n",
       " 'Reviews',\n",
       " 'Size',\n",
       " 'Installs',\n",
       " 'Type',\n",
       " 'Price',\n",
       " 'Content Rating',\n",
       " 'Genres',\n",
       " 'Last Updated',\n",
       " 'Current Ver',\n",
       " 'Android Ver']"
      ]
     },
     "execution_count": 22,
     "metadata": {},
     "output_type": "execute_result"
    }
   ],
   "source": [
    "android_header"
   ]
  },
  {
   "cell_type": "markdown",
   "metadata": {},
   "source": [
    "### 檢視iOS平台免費app的Prime genre組成"
   ]
  },
  {
   "cell_type": "code",
   "execution_count": 23,
   "metadata": {
    "scrolled": false
   },
   "outputs": [
    {
     "name": "stdout",
     "output_type": "stream",
     "text": [
      "Games : 58.16\n",
      "Entertainment : 7.88\n",
      "Photo & Video : 4.97\n",
      "Education : 3.66\n",
      "Social Networking : 3.29\n",
      "Shopping : 2.61\n",
      "Utilities : 2.51\n",
      "Sports : 2.14\n",
      "Music : 2.05\n",
      "Health & Fitness : 2.02\n"
     ]
    }
   ],
   "source": [
    "# 要檢視的prime genre的index為-5\n",
    "display_table(ios_final, -5)"
   ]
  },
  {
   "cell_type": "markdown",
   "metadata": {
    "collapsed": true
   },
   "source": [
    "我們可以發現在ios平台遊戲類app佔大多數約58%，其次為娛樂類約8%，緊接照片&影片類別約5%，教育類與社交類別分別佔約3.7%與3.3%\n",
    "\n",
    "\n",
    "### 檢視Google Play平台免費app的category組成"
   ]
  },
  {
   "cell_type": "code",
   "execution_count": 34,
   "metadata": {
    "scrolled": true
   },
   "outputs": [
    {
     "name": "stdout",
     "output_type": "stream",
     "text": [
      "FAMILY : 18.91\n",
      "GAME : 9.72\n",
      "TOOLS : 8.46\n",
      "BUSINESS : 4.59\n",
      "LIFESTYLE : 3.9\n",
      "PRODUCTIVITY : 3.89\n",
      "FINANCE : 3.7\n",
      "MEDICAL : 3.53\n",
      "SPORTS : 3.4\n",
      "PERSONALIZATION : 3.32\n"
     ]
    }
   ],
   "source": [
    "display_table(android_final, 1)"
   ]
  },
  {
   "cell_type": "markdown",
   "metadata": {},
   "source": [
    "我們可以發現google play的結構與ios相當不同，家庭類app為最大宗約18.9%，遊戲類位居第二約9.7%，第三為工具類8.5%，緊接在後是商業類4.5%，生活類3.9%。\n",
    "\n",
    "可以發現google play的軟體偏向實用層面，不過深入研究會發現，家庭類別其實也包含許多給小孩遊玩的遊戲，因此遊戲類還是佔多數。\n",
    "\n",
    "[Google play家庭類app](https://play.google.com/store/apps/category/FAMILY?hl=en)"
   ]
  },
  {
   "cell_type": "markdown",
   "metadata": {
    "collapsed": true
   },
   "source": [
    "### 檢視Google Play平台的genre占比情形"
   ]
  },
  {
   "cell_type": "code",
   "execution_count": 25,
   "metadata": {},
   "outputs": [
    {
     "name": "stdout",
     "output_type": "stream",
     "text": [
      "Tools : 8.45\n",
      "Entertainment : 6.07\n",
      "Education : 5.35\n",
      "Business : 4.59\n",
      "Productivity : 3.89\n",
      "Lifestyle : 3.89\n",
      "Finance : 3.7\n",
      "Medical : 3.53\n",
      "Sports : 3.46\n",
      "Personalization : 3.32\n"
     ]
    }
   ],
   "source": [
    "display_table(android_final, -4) # genre"
   ]
  },
  {
   "cell_type": "markdown",
   "metadata": {},
   "source": [
    "在Google Play平台的category和genre定義比較不明確，但我們可以確定的是category欄位比較大方向，而genre欄位比較細分，而目前我們只需要觀察較大面向的趨勢，所以我們使用category欄位即可。\n",
    "\n",
    "目前為止，我們發現App Store被遊戲類的app統治，大約58%都是遊戲類；而Google Play則在實用與樂趣之間取得平衡。\n",
    "\n",
    "因此，為了要在兩大平台都上架產品，我們會建議研發部門針對遊戲類別下手開發，先在Google Play平台上架後蒐集用戶反饋，按照反饋修正，若連續六個月都能獲利，我們研發在iOS平台上架。\n"
   ]
  },
  {
   "cell_type": "markdown",
   "metadata": {
    "collapsed": true
   },
   "source": [
    "## 假設我們也考慮切入收費app領域並從中獲利，我們要切入哪一類的app？"
   ]
  },
  {
   "cell_type": "code",
   "execution_count": 30,
   "metadata": {},
   "outputs": [],
   "source": [
    "# 移除免費app\n",
    "\n",
    "android_nonfree = []\n",
    "ios_nonfree = []\n",
    "\n",
    "for app in android_english:\n",
    "    price = app[7]\n",
    "    if price != '0':\n",
    "        android_nonfree.append(app)\n",
    "        \n",
    "for app in ios_english:\n",
    "    price = app[4]\n",
    "    if price != '0.0':\n",
    "        ios_nonfree.append(app)"
   ]
  },
  {
   "cell_type": "code",
   "execution_count": 46,
   "metadata": {
    "scrolled": true
   },
   "outputs": [
    {
     "name": "stdout",
     "output_type": "stream",
     "text": [
      "Android付費app資料數: 750 付費app比率: 7.8 %\n",
      "iOS付費app資料數: 2961 付費app比率: 47.89 %\n"
     ]
    }
   ],
   "source": [
    "print('Android付費app資料數:',len(android_nonfree), '付費app比率:',round(len(android_nonfree)/len(android_english)*100,2),'%')\n",
    "print('iOS付費app資料數:',len(ios_nonfree),'付費app比率:',round(len(ios_nonfree)/len(ios_english)*100,2),'%')"
   ]
  },
  {
   "cell_type": "markdown",
   "metadata": {},
   "source": [
    "在清理過的抽樣數據中，Android僅有約8%的付費app，而iOS平台有將近48%的付費app，如果公司想要透過付費app獲利，建議先上架iOS平台，畢竟用戶在iOS平台比較常見付費app，先透過累積iOS平台的用戶與反饋修正app，再根據進階數據研擬是否要上架Android平台。"
   ]
  },
  {
   "cell_type": "markdown",
   "metadata": {},
   "source": [
    "### 檢視iOS平台付費app的Prime genre組成"
   ]
  },
  {
   "cell_type": "code",
   "execution_count": 33,
   "metadata": {
    "scrolled": false
   },
   "outputs": [
    {
     "name": "stdout",
     "output_type": "stream",
     "text": [
      "Games : 51.27\n",
      "Education : 9.86\n",
      "Entertainment : 6.59\n",
      "Photo & Video : 6.11\n",
      "Utilities : 4.46\n",
      "Productivity : 3.78\n",
      "Health & Fitness : 3.38\n",
      "Music : 2.4\n",
      "Lifestyle : 1.62\n",
      "Weather : 1.38\n"
     ]
    }
   ],
   "source": [
    "display_table(ios_nonfree, -5)"
   ]
  },
  {
   "cell_type": "markdown",
   "metadata": {},
   "source": [
    "即使目前條件改為付費app，iOS平台仍有高達51%的遊戲類app，不過教育類提升至接近10%，若公司原本就有研發教育類的app且著手進入付費app市場，除了最大宗的遊戲類之外，還可以考慮研發教育類app。"
   ]
  },
  {
   "cell_type": "markdown",
   "metadata": {},
   "source": [
    "### 檢視Google Play平台付費app的category組成"
   ]
  },
  {
   "cell_type": "code",
   "execution_count": 35,
   "metadata": {
    "scrolled": false
   },
   "outputs": [
    {
     "name": "stdout",
     "output_type": "stream",
     "text": [
      "FAMILY : 24.27\n",
      "MEDICAL : 10.93\n",
      "GAME : 10.93\n",
      "PERSONALIZATION : 10.8\n",
      "TOOLS : 10.4\n",
      "PRODUCTIVITY : 3.73\n",
      "BOOKS_AND_REFERENCE : 3.73\n",
      "COMMUNICATION : 3.6\n",
      "SPORTS : 3.2\n",
      "PHOTOGRAPHY : 2.53\n"
     ]
    }
   ],
   "source": [
    "display_table(android_nonfree, 1)"
   ]
  },
  {
   "cell_type": "markdown",
   "metadata": {},
   "source": [
    "我們在Android平台可以發現比較大的不同，將條件改為付費app後，占比最大的種類改為家庭(24%)、醫療(11%)、遊戲、個人化與工具(各10%)，Android平台付費app比較常出現在功能性領域，若公司決定先上架iOS平台再上架Android平台，家庭與遊戲類都是在兩大平台占比較前面的類別，都可以考慮由此著手。"
   ]
  }
 ],
 "metadata": {
  "kernelspec": {
   "display_name": "Python 3",
   "language": "python",
   "name": "python3"
  },
  "language_info": {
   "codemirror_mode": {
    "name": "ipython",
    "version": 3
   },
   "file_extension": ".py",
   "mimetype": "text/x-python",
   "name": "python",
   "nbconvert_exporter": "python",
   "pygments_lexer": "ipython3",
   "version": "3.7.6"
  }
 },
 "nbformat": 4,
 "nbformat_minor": 2
}
